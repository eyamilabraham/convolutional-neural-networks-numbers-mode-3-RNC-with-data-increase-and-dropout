{
  "nbformat": 4,
  "nbformat_minor": 0,
  "metadata": {
    "colab": {
      "name": "convolutional neural networks - numbers - mode 3 - RNC with data increase and dropout",
      "provenance": [],
      "authorship_tag": "ABX9TyM9uAfhXEjbjLtCKgjL7flf",
      "include_colab_link": true
    },
    "kernelspec": {
      "name": "python3",
      "display_name": "Python 3"
    },
    "language_info": {
      "name": "python"
    }
  },
  "cells": [
    {
      "cell_type": "markdown",
      "metadata": {
        "id": "view-in-github",
        "colab_type": "text"
      },
      "source": [
        "<a href=\"https://colab.research.google.com/github/eyamilabraham/convolutional-neural-networks-numbers-mode-3-RNC-with-data-increase-and-dropout/blob/main/convolutional_neural_networks_numbers_mode_3_RNC_with_data_increase_and_dropout.ipynb\" target=\"_parent\"><img src=\"https://colab.research.google.com/assets/colab-badge.svg\" alt=\"Open In Colab\"/></a>"
      ]
    },
    {
      "cell_type": "code",
      "source": [
        "import tensorflow as tf\n",
        "from tensorflow.keras.datasets import mnist\n",
        "import numpy as np\n",
        "from tensorflow.keras.utils import to_categorical\n",
        "\n",
        "#Downloading MNIST dataset (handwritten numbers, labeled)\n",
        "#Data Augmentation from Keras\n",
        "(X_entrenamiento, Y_entrenamiento), (X_pruebas, Y_pruebas) = mnist.load_data()"
      ],
      "metadata": {
        "colab": {
          "base_uri": "https://localhost:8080/"
        },
        "id": "84YEGJulvDHj",
        "outputId": "a8b3b77f-a778-4ffd-e4df-37575d4376c9"
      },
      "execution_count": null,
      "outputs": [
        {
          "output_type": "stream",
          "name": "stdout",
          "text": [
            "Downloading data from https://storage.googleapis.com/tensorflow/tf-keras-datasets/mnist.npz\n",
            "11493376/11490434 [==============================] - 0s 0us/step\n",
            "11501568/11490434 [==============================] - 0s 0us/step\n"
          ]
        }
      ]
    },
    {
      "cell_type": "code",
      "source": [
        "#Put each data in right way(1, 28, 28, 1)\n",
        "X_training = X_training.reshape(X_training.shape[0], 28, 28, 1)\n",
        "X_testing = X_testing.reshape(X_testing.shape[0], 28, 28, 1)\n",
        "\n",
        "#Making 'one-hot encoding' from results (e.g. instead of having only one neuron as a result, I will have 10 where only the correct result will be 1 and the rest will be 0.)\n",
        "Y_training = to_categorical(Y_training)\n",
        "Y_testing = to_categorical(Y_testing)\n",
        "\n",
        "#Convert to float and normalize the network that it could learn faster\n",
        "X_training = X_training.astype('float32') / 255\n",
        "X_testing = X_testing.astype('float32') / 255"
      ],
      "metadata": {
        "colab": {
          "base_uri": "https://localhost:8080/",
          "height": 234
        },
        "id": "QsBngG1nvhPE",
        "outputId": "963a9ac2-0ff6-43f3-eb8b-e91a5a2fee30"
      },
      "execution_count": null,
      "outputs": [
        {
          "output_type": "error",
          "ename": "NameError",
          "evalue": "ignored",
          "traceback": [
            "\u001b[0;31m---------------------------------------------------------------------------\u001b[0m",
            "\u001b[0;31mNameError\u001b[0m                                 Traceback (most recent call last)",
            "\u001b[0;32m<ipython-input-2-c3c8f243a0a1>\u001b[0m in \u001b[0;36m<module>\u001b[0;34m()\u001b[0m\n\u001b[1;32m      1\u001b[0m \u001b[0;31m#Put each data in right way(1, 28, 28, 1)\u001b[0m\u001b[0;34m\u001b[0m\u001b[0;34m\u001b[0m\u001b[0;34m\u001b[0m\u001b[0m\n\u001b[0;32m----> 2\u001b[0;31m \u001b[0mX_training\u001b[0m \u001b[0;34m=\u001b[0m \u001b[0mX_training\u001b[0m\u001b[0;34m.\u001b[0m\u001b[0mreshape\u001b[0m\u001b[0;34m(\u001b[0m\u001b[0mX_training\u001b[0m\u001b[0;34m.\u001b[0m\u001b[0mshape\u001b[0m\u001b[0;34m[\u001b[0m\u001b[0;36m0\u001b[0m\u001b[0;34m]\u001b[0m\u001b[0;34m,\u001b[0m \u001b[0;36m28\u001b[0m\u001b[0;34m,\u001b[0m \u001b[0;36m28\u001b[0m\u001b[0;34m,\u001b[0m \u001b[0;36m1\u001b[0m\u001b[0;34m)\u001b[0m\u001b[0;34m\u001b[0m\u001b[0;34m\u001b[0m\u001b[0m\n\u001b[0m\u001b[1;32m      3\u001b[0m \u001b[0mX_testing\u001b[0m \u001b[0;34m=\u001b[0m \u001b[0mX_testing\u001b[0m\u001b[0;34m.\u001b[0m\u001b[0mreshape\u001b[0m\u001b[0;34m(\u001b[0m\u001b[0mX_testing\u001b[0m\u001b[0;34m.\u001b[0m\u001b[0mshape\u001b[0m\u001b[0;34m[\u001b[0m\u001b[0;36m0\u001b[0m\u001b[0;34m]\u001b[0m\u001b[0;34m,\u001b[0m \u001b[0;36m28\u001b[0m\u001b[0;34m,\u001b[0m \u001b[0;36m28\u001b[0m\u001b[0;34m,\u001b[0m \u001b[0;36m1\u001b[0m\u001b[0;34m)\u001b[0m\u001b[0;34m\u001b[0m\u001b[0;34m\u001b[0m\u001b[0m\n\u001b[1;32m      4\u001b[0m \u001b[0;34m\u001b[0m\u001b[0m\n\u001b[1;32m      5\u001b[0m \u001b[0;31m#Making 'one-hot encoding' from results (e.g. instead of having only one neuron as a result, I will have 10 where only the correct result will be 1 and the rest will be 0.)\u001b[0m\u001b[0;34m\u001b[0m\u001b[0;34m\u001b[0m\u001b[0;34m\u001b[0m\u001b[0m\n",
            "\u001b[0;31mNameError\u001b[0m: name 'X_training' is not defined"
          ]
        }
      ]
    },
    {
      "cell_type": "code",
      "source": [
        "#Code to display pictures from dataset\n",
        "import matplotlib.pyplot as plt\n",
        "raws = 2\n",
        "columns = 8\n",
        "num = raws*columns\n",
        "pictures = X_training[0:num]\n",
        "labels = Y_training[0:num]\n",
        "fig, axes = plt.subplots(raws, columns, figsize=(1.5*columns,2*raws))\n",
        "for i in range(num):\n",
        "     ax = axes[i//columns, i%columns]\n",
        "     ax.imshow(pictures[i].reshape(28,28), cmap='gray_r')\n",
        "     ax.set_title('Label: {}'.format(np.argmax(labels[i])))\n",
        "plt.tight_layout()\n",
        "plt.show()"
      ],
      "metadata": {
        "id": "iBdrX4SswoUh"
      },
      "execution_count": null,
      "outputs": []
    },
    {
      "cell_type": "code",
      "source": [
        "#Increase of data\n",
        "#Variables to control transformations to increase of data\n",
        "#Deploying ImageDataGenerator from keras\n",
        "\n",
        "from tensorflow.keras.preprocessing.image import ImageDataGenerator\n",
        "\n",
        "rotation_range = 30\n",
        "mov_width = 0.25\n",
        "mov_height = 0.25\n",
        "#inclination_rangen=15 \n",
        "approach_range=[0.5,1.5]\n",
        "\n",
        "datagen = ImageDataGenerator(\n",
        "    rotation_range = rotation_range,\n",
        "    width_shift_range = mov_width,\n",
        "    height_shift_range = mov_height,\n",
        "    zoom_range=approach_range,\n",
        "    #shear_range=inclination_range\n",
        ")\n",
        "\n",
        "datagen.fit(X_training)"
      ],
      "metadata": {
        "id": "dZGprphSxINP"
      },
      "execution_count": null,
      "outputs": []
    },
    {
      "cell_type": "code",
      "source": [
        "#Code to display pictures from dataset before and after of one of transformations\n",
        "raws = 4\n",
        "columns = 8\n",
        "num = raws*columns\n",
        "print('BEFORE:\\n')\n",
        "fig1, axes1 = plt.subplots(raws, columns, figsize=(1.5*columns,2*raws))\n",
        "for i in range(num):\n",
        "     ax = axes1[i//columns, i%columns]\n",
        "     ax.imshow(X_training[i].reshape(28,28), cmap='gray_r')\n",
        "     ax.set_title('Label: {}'.format(np.argmax(Y_training[i])))\n",
        "plt.tight_layout()\n",
        "plt.show()\n",
        "print('AFTER:\\n')\n",
        "fig2, axes2 = plt.subplots(raws, columns, figsize=(1.5*columns,2*raws))\n",
        "for X, Y in datagen.flow(X_entrenamiento,Y_entrenamiento.reshape(Y_entrenamiento.shape[0], 10),batch_size=num,shuffle=False):\n",
        "     for i in range(0, num):\n",
        "          ax = axes2[i//columnas, i%columnas]\n",
        "          ax.imshow(X[i].reshape(28,28), cmap='gray_r')\n",
        "          ax.set_title('Label: {}'.format(int(np.argmax(Y[i]))))\n",
        "     break\n",
        "plt.tight_layout()\n",
        "plt.show()"
      ],
      "metadata": {
        "id": "4X65rq8HyWqp"
      },
      "execution_count": null,
      "outputs": []
    },
    {
      "cell_type": "code",
      "source": [
        "#Modelo!\n",
        "modelo = tf.keras.models.Sequential([\n",
        "    tf.keras.layers.Conv2D(32, (3,3), activation='relu', input_shape=(28, 28, 1)),\n",
        "    tf.keras.layers.MaxPooling2D(2, 2),\n",
        "\n",
        "    tf.keras.layers.Conv2D(64, (3,3), activation='relu'),\n",
        "    tf.keras.layers.MaxPooling2D(2,2),\n",
        "\n",
        "    tf.keras.layers.Dropout(0.5),\n",
        "    tf.keras.layers.Flatten(),\n",
        "    tf.keras.layers.Dense(100, activation='relu'),\n",
        "    tf.keras.layers.Dense(10, activation=\"softmax\")\n",
        "])\n",
        "\n",
        "#Compilación\n",
        "modelo.compile(optimizer='adam',\n",
        "              loss='categorical_crossentropy',\n",
        "              metrics=['accuracy'])"
      ],
      "metadata": {
        "id": "_jnTDCfgz5to"
      },
      "execution_count": null,
      "outputs": []
    },
    {
      "cell_type": "code",
      "source": [
        "#Los datos para entrenar saldran del datagen, de manera que sean generados con las transformaciones que indicamos\n",
        "data_gen_entrenamiento = datagen.flow(X_entrenamiento, Y_entrenamiento, batch_size=32)"
      ],
      "metadata": {
        "id": "AsYQnxLwz8AM"
      },
      "execution_count": null,
      "outputs": []
    },
    {
      "cell_type": "code",
      "source": [
        "TAMANO_LOTE = 32\n",
        "\n",
        "#Entrenar la red. Toma un buen rato! Ve por un café ;)\n",
        "#Oye suscribete al canal!\n",
        "print(\"Entrenando modelo...\");\n",
        "epocas=60\n",
        "history = modelo.fit(\n",
        "    data_gen_entrenamiento,\n",
        "    epochs=epocas,\n",
        "    batch_size=TAMANO_LOTE,\n",
        "    validation_data=(X_pruebas, Y_pruebas),\n",
        "    steps_per_epoch=int(np.ceil(60000 / float(TAMANO_LOTE))),\n",
        "    validation_steps=int(np.ceil(10000 / float(TAMANO_LOTE)))\n",
        ")\n",
        "\n",
        "print(\"Modelo entrenado!\");"
      ],
      "metadata": {
        "id": "T25sQkNtz9ix"
      },
      "execution_count": null,
      "outputs": []
    },
    {
      "cell_type": "code",
      "source": [
        "#Exportar el modelo al explorador! (Mas detalle de esto en en mi video de exportacion: https://youtu.be/JpE4bYyRADI )\n",
        "modelo.save('numeros_conv_ad_do.h5')\n",
        "\n",
        "#Convertirlo a tensorflow.js\n",
        "!pip install tensorflowjs\n",
        "\n",
        "!mkdir carpeta_salida\n",
        "\n",
        "!tensorflowjs_converter --input_format keras numeros_conv_ad_do.h5 carpeta_salida"
      ],
      "metadata": {
        "id": "0jRM7Mkpz_GS"
      },
      "execution_count": null,
      "outputs": []
    }
  ]
}